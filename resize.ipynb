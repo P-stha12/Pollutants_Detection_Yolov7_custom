{
 "cells": [
  {
   "cell_type": "code",
   "execution_count": null,
   "id": "a8ddcbde",
   "metadata": {},
   "outputs": [],
   "source": [
    "#Collaborators:\n",
    "#Pratik Shrestha, shresthapratik74@gmail.com\n",
    "#Nitiz Khanal, khanalnitij20@gmail.com"
   ]
  },
  {
   "cell_type": "code",
   "execution_count": 1,
   "id": "e3654b10",
   "metadata": {},
   "outputs": [],
   "source": [
    "import os\n",
    "from PIL import Image\n",
    "import pandas as pd"
   ]
  },
  {
   "cell_type": "code",
   "execution_count": 3,
   "id": "ecda173c",
   "metadata": {},
   "outputs": [],
   "source": [
    "os.chdir(r'Desktop/dataset')"
   ]
  },
  {
   "cell_type": "code",
   "execution_count": 7,
   "id": "82ece249",
   "metadata": {},
   "outputs": [],
   "source": [
    "data = pd.read_csv('train.csv')"
   ]
  },
  {
   "cell_type": "code",
   "execution_count": 17,
   "id": "ca3d139e",
   "metadata": {},
   "outputs": [],
   "source": [
    "d = data[data['image_path']=='ea906a663da6321bcef78be4b7d1afff.jpg']"
   ]
  },
  {
   "cell_type": "code",
   "execution_count": 18,
   "id": "68ad0101",
   "metadata": {},
   "outputs": [
    {
     "name": "stdout",
     "output_type": "stream",
     "text": [
      "0.9229166666666667 0.1259259259259259 0.20833333333333334 0.2518518518518518\n"
     ]
    }
   ],
   "source": [
    "i = 0\n",
    "first = d.iloc[i]\n",
    "classs = d.iloc[i]['class']\n",
    "image_path = d.iloc[i]['image_path']\n",
    "xmin = d.iloc[i]['xmin']*2\n",
    "xmax = d.iloc[i]['xmax']*2\n",
    "ymin = d.iloc[i]['ymin']*2\n",
    "ymax = d.iloc[i]['ymax']*2\n",
    "\n",
    "xcen = float((xmin+xmax)) / 2 / image.shape[1]\n",
    "ycen = float((ymin+ymax)) / 2 / image.shape[0]\n",
    "w = float((xmax - xmin)) / image.shape[1]\n",
    "h = float((ymax - ymin)) / image.shape[0]\n",
    "\n",
    "print(xcen, ycen, w, h)\n",
    "\n",
    "x_min = int(max(xcen - w/2, 0)*image.shape[1])\n",
    "x_max = int(min(xcen + w/2, 1)*image.shape[1])\n",
    "y_min = int(max(ycen - h/2, 0)*image.shape[0])\n",
    "y_max = int(min(ycen + h/2, 1)*image.shape[0])"
   ]
  },
  {
   "cell_type": "code",
   "execution_count": 33,
   "id": "bc3d8f17",
   "metadata": {},
   "outputs": [],
   "source": [
    "import cv2\n",
    "\n",
    "image = cv2.imread('images/ea906a663da6321bcef78be4b7d1afff.jpg')\n",
    "height, width, channels = image.shape\n",
    "start_point = (int(xmin),int(ymin))\n",
    "end_point = (int(xmax), int(ymax))\n",
    "color = (0,0,255)\n",
    "thickness = 2\n",
    "\n",
    "#rect = cv2.rectangle(image, start_point, end_point, color, thickness)\n",
    "cv2.imshow('Rectangle',image)\n",
    "\n",
    "cv2.waitKey(0)\n",
    "# Destroying present windows on screen\n",
    "cv2.destroyAllWindows()"
   ]
  },
  {
   "cell_type": "code",
   "execution_count": 24,
   "id": "c03f5fce",
   "metadata": {},
   "outputs": [
    {
     "data": {
      "text/plain": [
       "(1080, 1920, 3)"
      ]
     },
     "execution_count": 24,
     "metadata": {},
     "output_type": "execute_result"
    }
   ],
   "source": [
    "image.shape"
   ]
  },
  {
   "cell_type": "code",
   "execution_count": 66,
   "id": "dcde1742",
   "metadata": {},
   "outputs": [
    {
     "data": {
      "text/plain": [
       "(720, 1280, 3)"
      ]
     },
     "execution_count": 66,
     "metadata": {},
     "output_type": "execute_result"
    }
   ],
   "source": [
    "resized.shape"
   ]
  },
  {
   "cell_type": "code",
   "execution_count": 34,
   "id": "8f230c97",
   "metadata": {},
   "outputs": [],
   "source": [
    "#resize\n",
    "resized = cv2.resize(image, (1280, 720))"
   ]
  },
  {
   "cell_type": "code",
   "execution_count": 44,
   "id": "33e6f5e0",
   "metadata": {},
   "outputs": [],
   "source": [
    "x_scale = 1280 / image.shape[1]\n",
    "y_scale = 720 / image.shape[0]"
   ]
  },
  {
   "cell_type": "code",
   "execution_count": 71,
   "id": "e5736ffa",
   "metadata": {},
   "outputs": [
    {
     "data": {
      "text/plain": [
       "0.6666666666666666"
      ]
     },
     "execution_count": 71,
     "metadata": {},
     "output_type": "execute_result"
    }
   ],
   "source": [
    "y_scale"
   ]
  },
  {
   "cell_type": "code",
   "execution_count": 46,
   "id": "15baaa43",
   "metadata": {},
   "outputs": [],
   "source": [
    "start_point = (int(xmin*x_scale),int(ymin*y_scale))\n",
    "end_point = (int(xmax*x_scale), int(ymax*y_scale))"
   ]
  },
  {
   "cell_type": "code",
   "execution_count": 47,
   "id": "7455702d",
   "metadata": {},
   "outputs": [],
   "source": [
    "rect = cv2.rectangle(resized, start_point, end_point, color, thickness)\n",
    "cv2.imshow('img', rect)\n",
    "cv2.waitKey(0)\n",
    "# Destroying present windows on screen\n",
    "cv2.destroyAllWindows()"
   ]
  },
  {
   "cell_type": "code",
   "execution_count": 48,
   "id": "0c61fdd7",
   "metadata": {},
   "outputs": [
    {
     "data": {
      "text/html": [
       "<div>\n",
       "<style scoped>\n",
       "    .dataframe tbody tr th:only-of-type {\n",
       "        vertical-align: middle;\n",
       "    }\n",
       "\n",
       "    .dataframe tbody tr th {\n",
       "        vertical-align: top;\n",
       "    }\n",
       "\n",
       "    .dataframe thead th {\n",
       "        text-align: right;\n",
       "    }\n",
       "</style>\n",
       "<table border=\"1\" class=\"dataframe\">\n",
       "  <thead>\n",
       "    <tr style=\"text-align: right;\">\n",
       "      <th></th>\n",
       "      <th>class</th>\n",
       "      <th>image_path</th>\n",
       "      <th>name</th>\n",
       "      <th>xmax</th>\n",
       "      <th>xmin</th>\n",
       "      <th>ymax</th>\n",
       "      <th>ymin</th>\n",
       "    </tr>\n",
       "  </thead>\n",
       "  <tbody>\n",
       "    <tr>\n",
       "      <th>0</th>\n",
       "      <td>3.0</td>\n",
       "      <td>4a48c42c9579ec0399e6c5a3e825e765.jpg</td>\n",
       "      <td>GARBAGE</td>\n",
       "      <td>797.0</td>\n",
       "      <td>701.0</td>\n",
       "      <td>262.0</td>\n",
       "      <td>211.0</td>\n",
       "    </tr>\n",
       "    <tr>\n",
       "      <th>1</th>\n",
       "      <td>3.0</td>\n",
       "      <td>4a48c42c9579ec0399e6c5a3e825e765.jpg</td>\n",
       "      <td>GARBAGE</td>\n",
       "      <td>932.0</td>\n",
       "      <td>786.0</td>\n",
       "      <td>329.0</td>\n",
       "      <td>238.0</td>\n",
       "    </tr>\n",
       "    <tr>\n",
       "      <th>2</th>\n",
       "      <td>3.0</td>\n",
       "      <td>4a48c42c9579ec0399e6c5a3e825e765.jpg</td>\n",
       "      <td>GARBAGE</td>\n",
       "      <td>736.0</td>\n",
       "      <td>657.0</td>\n",
       "      <td>275.0</td>\n",
       "      <td>229.0</td>\n",
       "    </tr>\n",
       "    <tr>\n",
       "      <th>3</th>\n",
       "      <td>7.0</td>\n",
       "      <td>ea906a663da6321bcef78be4b7d1afff.jpg</td>\n",
       "      <td>BAD_BILLBOARD</td>\n",
       "      <td>986.0</td>\n",
       "      <td>786.0</td>\n",
       "      <td>136.0</td>\n",
       "      <td>0.0</td>\n",
       "    </tr>\n",
       "    <tr>\n",
       "      <th>4</th>\n",
       "      <td>8.0</td>\n",
       "      <td>1c7d48005a12d1b19261b8e71df7cafe.jpg</td>\n",
       "      <td>SAND_ON_ROAD</td>\n",
       "      <td>667.0</td>\n",
       "      <td>549.0</td>\n",
       "      <td>228.0</td>\n",
       "      <td>179.0</td>\n",
       "    </tr>\n",
       "    <tr>\n",
       "      <th>...</th>\n",
       "      <td>...</td>\n",
       "      <td>...</td>\n",
       "      <td>...</td>\n",
       "      <td>...</td>\n",
       "      <td>...</td>\n",
       "      <td>...</td>\n",
       "      <td>...</td>\n",
       "    </tr>\n",
       "    <tr>\n",
       "      <th>19945</th>\n",
       "      <td>4.0</td>\n",
       "      <td>081e7bb3832ec5bb25276db161a96274.jpg</td>\n",
       "      <td>CONSTRUCTION_ROAD</td>\n",
       "      <td>1025.0</td>\n",
       "      <td>600.0</td>\n",
       "      <td>408.0</td>\n",
       "      <td>148.0</td>\n",
       "    </tr>\n",
       "    <tr>\n",
       "      <th>19946</th>\n",
       "      <td>2.0</td>\n",
       "      <td>1ff38a7af7f13b1201d17c6e1829373a.jpg</td>\n",
       "      <td>POTHOLES</td>\n",
       "      <td>657.0</td>\n",
       "      <td>418.0</td>\n",
       "      <td>364.0</td>\n",
       "      <td>282.0</td>\n",
       "    </tr>\n",
       "    <tr>\n",
       "      <th>19947</th>\n",
       "      <td>2.0</td>\n",
       "      <td>1ff38a7af7f13b1201d17c6e1829373a.jpg</td>\n",
       "      <td>POTHOLES</td>\n",
       "      <td>507.0</td>\n",
       "      <td>338.0</td>\n",
       "      <td>436.0</td>\n",
       "      <td>283.0</td>\n",
       "    </tr>\n",
       "    <tr>\n",
       "      <th>19948</th>\n",
       "      <td>7.0</td>\n",
       "      <td>ac97490f13140fc1bfe613ec69301b34.jpg</td>\n",
       "      <td>BAD_BILLBOARD</td>\n",
       "      <td>956.0</td>\n",
       "      <td>713.0</td>\n",
       "      <td>110.0</td>\n",
       "      <td>25.0</td>\n",
       "    </tr>\n",
       "    <tr>\n",
       "      <th>19949</th>\n",
       "      <td>7.0</td>\n",
       "      <td>ac97490f13140fc1bfe613ec69301b34.jpg</td>\n",
       "      <td>BAD_BILLBOARD</td>\n",
       "      <td>814.0</td>\n",
       "      <td>674.0</td>\n",
       "      <td>148.0</td>\n",
       "      <td>71.0</td>\n",
       "    </tr>\n",
       "  </tbody>\n",
       "</table>\n",
       "<p>19950 rows × 7 columns</p>\n",
       "</div>"
      ],
      "text/plain": [
       "       class                            image_path               name    xmax  \\\n",
       "0        3.0  4a48c42c9579ec0399e6c5a3e825e765.jpg            GARBAGE   797.0   \n",
       "1        3.0  4a48c42c9579ec0399e6c5a3e825e765.jpg            GARBAGE   932.0   \n",
       "2        3.0  4a48c42c9579ec0399e6c5a3e825e765.jpg            GARBAGE   736.0   \n",
       "3        7.0  ea906a663da6321bcef78be4b7d1afff.jpg      BAD_BILLBOARD   986.0   \n",
       "4        8.0  1c7d48005a12d1b19261b8e71df7cafe.jpg       SAND_ON_ROAD   667.0   \n",
       "...      ...                                   ...                ...     ...   \n",
       "19945    4.0  081e7bb3832ec5bb25276db161a96274.jpg  CONSTRUCTION_ROAD  1025.0   \n",
       "19946    2.0  1ff38a7af7f13b1201d17c6e1829373a.jpg           POTHOLES   657.0   \n",
       "19947    2.0  1ff38a7af7f13b1201d17c6e1829373a.jpg           POTHOLES   507.0   \n",
       "19948    7.0  ac97490f13140fc1bfe613ec69301b34.jpg      BAD_BILLBOARD   956.0   \n",
       "19949    7.0  ac97490f13140fc1bfe613ec69301b34.jpg      BAD_BILLBOARD   814.0   \n",
       "\n",
       "        xmin   ymax   ymin  \n",
       "0      701.0  262.0  211.0  \n",
       "1      786.0  329.0  238.0  \n",
       "2      657.0  275.0  229.0  \n",
       "3      786.0  136.0    0.0  \n",
       "4      549.0  228.0  179.0  \n",
       "...      ...    ...    ...  \n",
       "19945  600.0  408.0  148.0  \n",
       "19946  418.0  364.0  282.0  \n",
       "19947  338.0  436.0  283.0  \n",
       "19948  713.0  110.0   25.0  \n",
       "19949  674.0  148.0   71.0  \n",
       "\n",
       "[19950 rows x 7 columns]"
      ]
     },
     "execution_count": 48,
     "metadata": {},
     "output_type": "execute_result"
    }
   ],
   "source": [
    "data"
   ]
  },
  {
   "cell_type": "code",
   "execution_count": 49,
   "id": "29d514f7",
   "metadata": {},
   "outputs": [],
   "source": [
    "tada = data.copy()"
   ]
  },
  {
   "cell_type": "code",
   "execution_count": 51,
   "id": "21ee9ae1",
   "metadata": {},
   "outputs": [
    {
     "data": {
      "text/html": [
       "<div>\n",
       "<style scoped>\n",
       "    .dataframe tbody tr th:only-of-type {\n",
       "        vertical-align: middle;\n",
       "    }\n",
       "\n",
       "    .dataframe tbody tr th {\n",
       "        vertical-align: top;\n",
       "    }\n",
       "\n",
       "    .dataframe thead th {\n",
       "        text-align: right;\n",
       "    }\n",
       "</style>\n",
       "<table border=\"1\" class=\"dataframe\">\n",
       "  <thead>\n",
       "    <tr style=\"text-align: right;\">\n",
       "      <th></th>\n",
       "      <th>class</th>\n",
       "      <th>image_path</th>\n",
       "      <th>name</th>\n",
       "      <th>xmax</th>\n",
       "      <th>xmin</th>\n",
       "      <th>ymax</th>\n",
       "      <th>ymin</th>\n",
       "    </tr>\n",
       "  </thead>\n",
       "  <tbody>\n",
       "    <tr>\n",
       "      <th>0</th>\n",
       "      <td>3.0</td>\n",
       "      <td>4a48c42c9579ec0399e6c5a3e825e765.jpg</td>\n",
       "      <td>GARBAGE</td>\n",
       "      <td>797.0</td>\n",
       "      <td>701.0</td>\n",
       "      <td>262.0</td>\n",
       "      <td>211.0</td>\n",
       "    </tr>\n",
       "    <tr>\n",
       "      <th>1</th>\n",
       "      <td>3.0</td>\n",
       "      <td>4a48c42c9579ec0399e6c5a3e825e765.jpg</td>\n",
       "      <td>GARBAGE</td>\n",
       "      <td>932.0</td>\n",
       "      <td>786.0</td>\n",
       "      <td>329.0</td>\n",
       "      <td>238.0</td>\n",
       "    </tr>\n",
       "    <tr>\n",
       "      <th>2</th>\n",
       "      <td>3.0</td>\n",
       "      <td>4a48c42c9579ec0399e6c5a3e825e765.jpg</td>\n",
       "      <td>GARBAGE</td>\n",
       "      <td>736.0</td>\n",
       "      <td>657.0</td>\n",
       "      <td>275.0</td>\n",
       "      <td>229.0</td>\n",
       "    </tr>\n",
       "    <tr>\n",
       "      <th>3</th>\n",
       "      <td>7.0</td>\n",
       "      <td>ea906a663da6321bcef78be4b7d1afff.jpg</td>\n",
       "      <td>BAD_BILLBOARD</td>\n",
       "      <td>986.0</td>\n",
       "      <td>786.0</td>\n",
       "      <td>136.0</td>\n",
       "      <td>0.0</td>\n",
       "    </tr>\n",
       "    <tr>\n",
       "      <th>4</th>\n",
       "      <td>8.0</td>\n",
       "      <td>1c7d48005a12d1b19261b8e71df7cafe.jpg</td>\n",
       "      <td>SAND_ON_ROAD</td>\n",
       "      <td>667.0</td>\n",
       "      <td>549.0</td>\n",
       "      <td>228.0</td>\n",
       "      <td>179.0</td>\n",
       "    </tr>\n",
       "  </tbody>\n",
       "</table>\n",
       "</div>"
      ],
      "text/plain": [
       "   class                            image_path           name   xmax   xmin  \\\n",
       "0    3.0  4a48c42c9579ec0399e6c5a3e825e765.jpg        GARBAGE  797.0  701.0   \n",
       "1    3.0  4a48c42c9579ec0399e6c5a3e825e765.jpg        GARBAGE  932.0  786.0   \n",
       "2    3.0  4a48c42c9579ec0399e6c5a3e825e765.jpg        GARBAGE  736.0  657.0   \n",
       "3    7.0  ea906a663da6321bcef78be4b7d1afff.jpg  BAD_BILLBOARD  986.0  786.0   \n",
       "4    8.0  1c7d48005a12d1b19261b8e71df7cafe.jpg   SAND_ON_ROAD  667.0  549.0   \n",
       "\n",
       "    ymax   ymin  \n",
       "0  262.0  211.0  \n",
       "1  329.0  238.0  \n",
       "2  275.0  229.0  \n",
       "3  136.0    0.0  \n",
       "4  228.0  179.0  "
      ]
     },
     "execution_count": 51,
     "metadata": {},
     "output_type": "execute_result"
    }
   ],
   "source": [
    "tada.head()"
   ]
  },
  {
   "cell_type": "code",
   "execution_count": 52,
   "id": "5fba0be0",
   "metadata": {},
   "outputs": [],
   "source": [
    "tada['xmax'] = tada['xmax']*x_scale"
   ]
  },
  {
   "cell_type": "code",
   "execution_count": 54,
   "id": "c936bfee",
   "metadata": {},
   "outputs": [],
   "source": [
    "tada['xmin'] = tada['xmin']*x_scale\n",
    "tada['ymax'] = tada['ymax']*y_scale\n",
    "tada['ymin'] = tada['ymin']*y_scale"
   ]
  },
  {
   "cell_type": "code",
   "execution_count": 57,
   "id": "d953a28a",
   "metadata": {},
   "outputs": [],
   "source": [
    "tada['xmax'] = tada['xmax'].astype('int')\n",
    "tada['xmin'] = tada['xmin'].astype('int')\n",
    "tada['ymax'] = tada['ymax'].astype('int')\n",
    "tada['ymin'] = tada['ymin'].astype('int')"
   ]
  },
  {
   "cell_type": "code",
   "execution_count": 58,
   "id": "ce4ce41c",
   "metadata": {},
   "outputs": [
    {
     "data": {
      "text/html": [
       "<div>\n",
       "<style scoped>\n",
       "    .dataframe tbody tr th:only-of-type {\n",
       "        vertical-align: middle;\n",
       "    }\n",
       "\n",
       "    .dataframe tbody tr th {\n",
       "        vertical-align: top;\n",
       "    }\n",
       "\n",
       "    .dataframe thead th {\n",
       "        text-align: right;\n",
       "    }\n",
       "</style>\n",
       "<table border=\"1\" class=\"dataframe\">\n",
       "  <thead>\n",
       "    <tr style=\"text-align: right;\">\n",
       "      <th></th>\n",
       "      <th>class</th>\n",
       "      <th>image_path</th>\n",
       "      <th>name</th>\n",
       "      <th>xmax</th>\n",
       "      <th>xmin</th>\n",
       "      <th>ymax</th>\n",
       "      <th>ymin</th>\n",
       "    </tr>\n",
       "  </thead>\n",
       "  <tbody>\n",
       "    <tr>\n",
       "      <th>0</th>\n",
       "      <td>3.0</td>\n",
       "      <td>4a48c42c9579ec0399e6c5a3e825e765.jpg</td>\n",
       "      <td>GARBAGE</td>\n",
       "      <td>531</td>\n",
       "      <td>467</td>\n",
       "      <td>174</td>\n",
       "      <td>140</td>\n",
       "    </tr>\n",
       "    <tr>\n",
       "      <th>1</th>\n",
       "      <td>3.0</td>\n",
       "      <td>4a48c42c9579ec0399e6c5a3e825e765.jpg</td>\n",
       "      <td>GARBAGE</td>\n",
       "      <td>621</td>\n",
       "      <td>524</td>\n",
       "      <td>219</td>\n",
       "      <td>158</td>\n",
       "    </tr>\n",
       "    <tr>\n",
       "      <th>2</th>\n",
       "      <td>3.0</td>\n",
       "      <td>4a48c42c9579ec0399e6c5a3e825e765.jpg</td>\n",
       "      <td>GARBAGE</td>\n",
       "      <td>490</td>\n",
       "      <td>438</td>\n",
       "      <td>183</td>\n",
       "      <td>152</td>\n",
       "    </tr>\n",
       "    <tr>\n",
       "      <th>3</th>\n",
       "      <td>7.0</td>\n",
       "      <td>ea906a663da6321bcef78be4b7d1afff.jpg</td>\n",
       "      <td>BAD_BILLBOARD</td>\n",
       "      <td>657</td>\n",
       "      <td>524</td>\n",
       "      <td>90</td>\n",
       "      <td>0</td>\n",
       "    </tr>\n",
       "    <tr>\n",
       "      <th>4</th>\n",
       "      <td>8.0</td>\n",
       "      <td>1c7d48005a12d1b19261b8e71df7cafe.jpg</td>\n",
       "      <td>SAND_ON_ROAD</td>\n",
       "      <td>444</td>\n",
       "      <td>366</td>\n",
       "      <td>152</td>\n",
       "      <td>119</td>\n",
       "    </tr>\n",
       "    <tr>\n",
       "      <th>...</th>\n",
       "      <td>...</td>\n",
       "      <td>...</td>\n",
       "      <td>...</td>\n",
       "      <td>...</td>\n",
       "      <td>...</td>\n",
       "      <td>...</td>\n",
       "      <td>...</td>\n",
       "    </tr>\n",
       "    <tr>\n",
       "      <th>19945</th>\n",
       "      <td>4.0</td>\n",
       "      <td>081e7bb3832ec5bb25276db161a96274.jpg</td>\n",
       "      <td>CONSTRUCTION_ROAD</td>\n",
       "      <td>683</td>\n",
       "      <td>400</td>\n",
       "      <td>272</td>\n",
       "      <td>98</td>\n",
       "    </tr>\n",
       "    <tr>\n",
       "      <th>19946</th>\n",
       "      <td>2.0</td>\n",
       "      <td>1ff38a7af7f13b1201d17c6e1829373a.jpg</td>\n",
       "      <td>POTHOLES</td>\n",
       "      <td>438</td>\n",
       "      <td>278</td>\n",
       "      <td>242</td>\n",
       "      <td>188</td>\n",
       "    </tr>\n",
       "    <tr>\n",
       "      <th>19947</th>\n",
       "      <td>2.0</td>\n",
       "      <td>1ff38a7af7f13b1201d17c6e1829373a.jpg</td>\n",
       "      <td>POTHOLES</td>\n",
       "      <td>338</td>\n",
       "      <td>225</td>\n",
       "      <td>290</td>\n",
       "      <td>188</td>\n",
       "    </tr>\n",
       "    <tr>\n",
       "      <th>19948</th>\n",
       "      <td>7.0</td>\n",
       "      <td>ac97490f13140fc1bfe613ec69301b34.jpg</td>\n",
       "      <td>BAD_BILLBOARD</td>\n",
       "      <td>637</td>\n",
       "      <td>475</td>\n",
       "      <td>73</td>\n",
       "      <td>16</td>\n",
       "    </tr>\n",
       "    <tr>\n",
       "      <th>19949</th>\n",
       "      <td>7.0</td>\n",
       "      <td>ac97490f13140fc1bfe613ec69301b34.jpg</td>\n",
       "      <td>BAD_BILLBOARD</td>\n",
       "      <td>542</td>\n",
       "      <td>449</td>\n",
       "      <td>98</td>\n",
       "      <td>47</td>\n",
       "    </tr>\n",
       "  </tbody>\n",
       "</table>\n",
       "<p>19950 rows × 7 columns</p>\n",
       "</div>"
      ],
      "text/plain": [
       "       class                            image_path               name  xmax  \\\n",
       "0        3.0  4a48c42c9579ec0399e6c5a3e825e765.jpg            GARBAGE   531   \n",
       "1        3.0  4a48c42c9579ec0399e6c5a3e825e765.jpg            GARBAGE   621   \n",
       "2        3.0  4a48c42c9579ec0399e6c5a3e825e765.jpg            GARBAGE   490   \n",
       "3        7.0  ea906a663da6321bcef78be4b7d1afff.jpg      BAD_BILLBOARD   657   \n",
       "4        8.0  1c7d48005a12d1b19261b8e71df7cafe.jpg       SAND_ON_ROAD   444   \n",
       "...      ...                                   ...                ...   ...   \n",
       "19945    4.0  081e7bb3832ec5bb25276db161a96274.jpg  CONSTRUCTION_ROAD   683   \n",
       "19946    2.0  1ff38a7af7f13b1201d17c6e1829373a.jpg           POTHOLES   438   \n",
       "19947    2.0  1ff38a7af7f13b1201d17c6e1829373a.jpg           POTHOLES   338   \n",
       "19948    7.0  ac97490f13140fc1bfe613ec69301b34.jpg      BAD_BILLBOARD   637   \n",
       "19949    7.0  ac97490f13140fc1bfe613ec69301b34.jpg      BAD_BILLBOARD   542   \n",
       "\n",
       "       xmin  ymax  ymin  \n",
       "0       467   174   140  \n",
       "1       524   219   158  \n",
       "2       438   183   152  \n",
       "3       524    90     0  \n",
       "4       366   152   119  \n",
       "...     ...   ...   ...  \n",
       "19945   400   272    98  \n",
       "19946   278   242   188  \n",
       "19947   225   290   188  \n",
       "19948   475    73    16  \n",
       "19949   449    98    47  \n",
       "\n",
       "[19950 rows x 7 columns]"
      ]
     },
     "execution_count": 58,
     "metadata": {},
     "output_type": "execute_result"
    }
   ],
   "source": [
    "tada"
   ]
  },
  {
   "cell_type": "code",
   "execution_count": 60,
   "id": "ba2a9402",
   "metadata": {},
   "outputs": [],
   "source": [
    "tada.to_csv('resize.csv', index=False)"
   ]
  },
  {
   "cell_type": "code",
   "execution_count": 4,
   "id": "dc5bb4c0",
   "metadata": {},
   "outputs": [],
   "source": [
    "test_images = pd.read_csv('test.csv')"
   ]
  },
  {
   "cell_type": "code",
   "execution_count": 7,
   "id": "f77b8c7a",
   "metadata": {},
   "outputs": [
    {
     "data": {
      "text/plain": [
       "2092"
      ]
     },
     "execution_count": 7,
     "metadata": {},
     "output_type": "execute_result"
    }
   ],
   "source": [
    "len(test_images['image_path'].unique())"
   ]
  },
  {
   "cell_type": "code",
   "execution_count": 8,
   "id": "e6a71d5d",
   "metadata": {},
   "outputs": [],
   "source": [
    "files = test_images['image_path']"
   ]
  },
  {
   "cell_type": "code",
   "execution_count": 9,
   "id": "fd52b505",
   "metadata": {},
   "outputs": [
    {
     "data": {
      "text/plain": [
       "0       953ab1447c46ecfef67ab14629cd70c7.jpg\n",
       "1       e4ddbaa7970fca225a51288ce5f7d3f9.jpg\n",
       "2       5b8120d69607a077b7583334be3ba18b.jpg\n",
       "3       138b1dc82005b4c33e4886260649d313.jpg\n",
       "4       0f91ec1533b845b13089f8cf4e0a36f7.jpg\n",
       "                        ...                 \n",
       "2087    3e7dd159466f14474a0173e9b02f512a.jpg\n",
       "2088    a464d4600589ddf541bed59942c0228d.jpg\n",
       "2089    0a490958aac3c79bb815a0f1f6825284.jpg\n",
       "2090    15afe8bce6c71deed2d53f56b78b90a8.jpg\n",
       "2091    984841724143c66506986b3faa50e4b9.jpg\n",
       "Name: image_path, Length: 2092, dtype: object"
      ]
     },
     "execution_count": 9,
     "metadata": {},
     "output_type": "execute_result"
    }
   ],
   "source": [
    "files"
   ]
  },
  {
   "cell_type": "code",
   "execution_count": 10,
   "id": "3e438224",
   "metadata": {},
   "outputs": [
    {
     "data": {
      "text/plain": [
       "'953ab1447c46ecfef67ab14629cd70c7.jpg'"
      ]
     },
     "execution_count": 10,
     "metadata": {},
     "output_type": "execute_result"
    }
   ],
   "source": [
    "files[0]"
   ]
  },
  {
   "cell_type": "code",
   "execution_count": 68,
   "id": "47ed6978",
   "metadata": {},
   "outputs": [
    {
     "data": {
      "text/plain": [
       "True"
      ]
     },
     "execution_count": 68,
     "metadata": {},
     "output_type": "execute_result"
    }
   ],
   "source": [
    "image = cv2.imread(f'images/{files[0]}')\n",
    "resized = cv2.resize(image, (1280, 720))\n",
    "cv2.imwrite(f'resized_images/{files[0]}',resized) "
   ]
  },
  {
   "cell_type": "code",
   "execution_count": 12,
   "id": "74c57a39",
   "metadata": {},
   "outputs": [],
   "source": [
    "import cv2"
   ]
  },
  {
   "cell_type": "code",
   "execution_count": 13,
   "id": "7aa2a53e",
   "metadata": {},
   "outputs": [],
   "source": [
    "for i in range(len(files)):\n",
    "    image = cv2.imread(f'images/{files[i]}')\n",
    "    resized = cv2.resize(image, (1280, 720))\n",
    "    cv2.imwrite(f'ResizedDatas/test/images/{files[i]}',resized) "
   ]
  }
 ],
 "metadata": {
  "kernelspec": {
   "display_name": "Python 3 (ipykernel)",
   "language": "python",
   "name": "python3"
  },
  "language_info": {
   "codemirror_mode": {
    "name": "ipython",
    "version": 3
   },
   "file_extension": ".py",
   "mimetype": "text/x-python",
   "name": "python",
   "nbconvert_exporter": "python",
   "pygments_lexer": "ipython3",
   "version": "3.10.6"
  }
 },
 "nbformat": 4,
 "nbformat_minor": 5
}
